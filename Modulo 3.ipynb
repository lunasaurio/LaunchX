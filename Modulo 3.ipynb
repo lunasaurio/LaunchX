{
 "cells": [
  {
   "cell_type": "code",
   "execution_count": 2,
   "metadata": {},
   "outputs": [
    {
     "name": "stdout",
     "output_type": "stream",
     "text": [
      "¡Peligro, un asteroide podría causar daños!\n"
     ]
    }
   ],
   "source": [
    "asteroide = 49\n",
    "if asteroide > 25:\n",
    "    print('¡Peligro, un asteroide podría causar daños!')\n",
    "else:\n",
    "    print('Sin Novedades')"
   ]
  },
  {
   "cell_type": "code",
   "execution_count": 4,
   "metadata": {},
   "outputs": [
    {
     "name": "stdout",
     "output_type": "stream",
     "text": [
      "No lograremos ver el asteroide\n"
     ]
    }
   ],
   "source": [
    "asteroide = 19\n",
    "if asteroide > 20:\n",
    "    print ('Pueden ver el asteroide')\n",
    "elif asteroide == 20:\n",
    "    print ('Pueden ver el asteroide')\n",
    "else:\n",
    "    print ('No lograremos ver el asteroide')"
   ]
  },
  {
   "cell_type": "code",
   "execution_count": 5,
   "metadata": {},
   "outputs": [
    {
     "name": "stdout",
     "output_type": "stream",
     "text": [
      "Miren arriba, habrá espectaculo\n"
     ]
    }
   ],
   "source": [
    "velocidad = 25\n",
    "tamano = 40\n",
    "if velocidad > 25 and tamano > 25:\n",
    "    print ('Peligro inminente y catastrofico!')\n",
    "elif velocidad >= 20:\n",
    "    print ('Miren arriba, habrá espectaculo')\n",
    "elif tamano < 25:\n",
    "    print ('No hay nada que observar')\n",
    "else:\n",
    "    print ('Nada')"
   ]
  }
 ],
 "metadata": {
  "interpreter": {
   "hash": "1ad781f1a3d5f6560609eb62bea0f9a95d371036ad4abfffcef7f6b6aa09ed92"
  },
  "kernelspec": {
   "display_name": "Python 3.10.0 64-bit",
   "language": "python",
   "name": "python3"
  },
  "language_info": {
   "codemirror_mode": {
    "name": "ipython",
    "version": 3
   },
   "file_extension": ".py",
   "mimetype": "text/x-python",
   "name": "python",
   "nbconvert_exporter": "python",
   "pygments_lexer": "ipython3",
   "version": "3.10.0"
  },
  "orig_nbformat": 4
 },
 "nbformat": 4,
 "nbformat_minor": 2
}
